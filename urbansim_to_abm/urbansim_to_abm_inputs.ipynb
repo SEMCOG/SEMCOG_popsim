{
 "cells": [
  {
   "cell_type": "code",
   "execution_count": null,
   "metadata": {},
   "outputs": [],
   "source": [
    "# Convert 2015 SEMCOG Urbansim base year demographic data to ABM test inputs\n",
    "\n",
    "##   ABM needs several additional variables \"HHT\", \"pemploy\", \"pstudent\", \"ptype\" and defines \"worker\" differently than REMI. Therefore, additional PUMS attributes, \"HHT\", \"ESR\", \"WKHP\", \"WKW\", \"SCHG\" need to be extracted from original PUMS records.\n",
    "##   SEMCOG 2015 model base year demographic data doesn't contain original PUMS record number (\"SERIALNO\") but has valid household_id and member id that can help to link back to synthesized data. However, both model HHs and persons were post-processed to better match REMI base year controls. Therefore, they contains additional records not directly available in sythesized results.\n",
    "##   This notebook first uses aviable IDs to link syntheszied records. When IDs are not avaible, it looks up matching HH or person attributes plus geograhpic information such as PUMA or county to further identify/sample original PUMS serialno. \n",
    "##   After all households and persons have valid PUMS serialno,  it attachs need PUMS variables and compute to ABM inputs using conversion logics from RSG (for details see bottom of this notebook).     \n"
   ]
  },
  {
   "cell_type": "code",
   "execution_count": null,
   "metadata": {},
   "outputs": [],
   "source": [
    "import pandas as pd\n",
    "import numpy as np\n",
    "import math\n",
    "import time\n",
    "from pandas_profiling import ProfileReport\n"
   ]
  },
  {
   "cell_type": "markdown",
   "execution_count": null,
   "metadata": {},
   "outputs": [],
   "source": [
    "## Extract HHT from PUMS and add to model HHs"
   ]
  },
  {
   "cell_type": "code",
   "execution_count": null,
   "metadata": {},
   "outputs": [],
   "source": [
    "# get PUMA-blkgrp cross work file\n",
    "tract_puma = 'https://www2.census.gov/geo/docs/maps-data/data/rel/2010_Census_Tract_to_2010_PUMA.txt'\n",
    "df_tctpuma = pd.read_csv(tract_puma)\n",
    "df_tctpuma = df_tctpuma.loc[df_tctpuma.STATEFP == 26]"
   ]
  },
  {
   "cell_type": "code",
   "execution_count": null,
   "metadata": {},
   "outputs": [],
   "source": [
    "stm = pd.HDFStore('all_semcog_data_02-02-18.h5', 'r') # model base year, final version\n",
    "sts = pd.HDFStore('starter6_20171019-1526.h5', 'r') # synthesized results"
   ]
  },
  {
   "cell_type": "code",
   "execution_count": null,
   "metadata": {},
   "outputs": [],
   "source": [
    "#process model HHs, attach bg_id, zone_id, county and PUMA\n",
    "modhh = stm['households']\n",
    "modhh.fillna(0, inplace=True)\n",
    "modhh = pd.merge(modhh, stm['buildings'][['parcel_id']], left_on = 'building_id',                                                                       right_index = True, how = 'left')\n",
    "modhh = pd.merge(modhh, stm['parcels'][['census_bg_id','zone_id']], left_on = 'parcel_id',                                                              right_index = True, how = 'left')\n",
    "modhh['county'] = modhh.index.values//10000000\n",
    "modhh['tract'] = modhh.census_bg_id//10\n",
    "modhh = pd.merge(modhh.reset_index(), df_tctpuma[['COUNTYFP','TRACTCE','PUMA5CE']], \n",
    "                        left_on = ['county', 'tract'], right_on = ['COUNTYFP','TRACTCE'], \n",
    "                        how='left').set_index('household_id')\n",
    "print('model households', modhh.head(2))"
   ]
  },
  {
   "cell_type": "code",
   "execution_count": null,
   "metadata": {},
   "outputs": [],
   "source": [
    "#process synthesized HHS, attach county and PUMA\n",
    "synhh = sts['sim_households']\n",
    "synhh.fillna(0, inplace=True)\n",
    "\n",
    "synhh.tract = synhh.tract.astype(int)\n",
    "synhh['county'] = synhh.index.values//10000000\n",
    "synhh = pd.merge(synhh.reset_index(), df_tctpuma[['COUNTYFP','TRACTCE','PUMA5CE']], \n",
    "                            left_on = ['county', 'tract'], right_on = ['COUNTYFP','TRACTCE'],                                       how='left').set_index('household_id')\n",
    "print('synthpop household', synhh.head(2))"
   ]
  },
  {
   "cell_type": "code",
   "execution_count": null,
   "metadata": {},
   "outputs": [],
   "source": [
    "# enlist added HHs, that is all hhs in model inputs but not in original synthesis dataset( they were added in post-process)\n",
    "modhh_added = modhh.loc[~modhh.index.isin(synhh.index)]\n",
    "modhh_match = modhh.loc[modhh.index.isin(synhh.index)]\n",
    "print(len(modhh), len(modhh_match) + len(modhh_added))"
   ]
  },
  {
   "cell_type": "code",
   "execution_count": null,
   "metadata": {},
   "outputs": [],
   "source": [
    "#for added HHs, sample original HHs with matching attributes in same geograhies (PUMA then county)the purpose is to add HHT info based on household attributes \n",
    "\n",
    "synhh.income=synhh.income.round(0)\n",
    "modhh_added.income=modhh_added.income.round(0)\n",
    "def querylst(alst, r, dfh):\n",
    "    avals = [str(r[v]) for v in alst]\n",
    "    qrystr = ' and '.join([ \"==\".join(x) for x in list(zip(alst, avals))])\n",
    "    return dfh.query(qrystr)    \n",
    "\n",
    "t0=time.time()\n",
    "indlst = []\n",
    "for ind, r in modhh_added.iterrows():\n",
    "    alst = ['income', 'race_id', 'age_of_head','cars', 'PUMA5CE']\n",
    "    if math.isnan(r.PUMA5CE) == False:\n",
    "        dfq = querylst(alst, r, synhh)\n",
    "\n",
    "    if (math.isnan(r.PUMA5CE)) or (len(dfq) == 0):\n",
    "        alst = alst[:-1] + ['county']\n",
    "        dfq = querylst(alst, r, synhh)\n",
    "\n",
    "        if (len(dfq) == 0):\n",
    "            alst = alst[:-1]\n",
    "            dfq = querylst(alst, r, synhh)\n",
    "\n",
    "    indlst.append(dfq.sample(1).serialno.values[0])\n",
    "    \n",
    "    if len(indlst) % 1000 == 0:\n",
    "        print('r', len(indlst), round (time.time()-t0, 0), '|', end =\" \" )\n",
    "print('r', len(indlst), round (time.time()-t0, 0), 'done' )"
   ]
  },
  {
   "cell_type": "code",
   "execution_count": null,
   "metadata": {},
   "outputs": [],
   "source": [
    "match = synhh.loc[synhh.index.isin(modhh.index)]\n",
    "modhh.loc[match.index, 'serialno'] = match['serialno']\n",
    "modhh.loc[modhh_added.index, 'serialno'] = indlst\n",
    "modhh.loc[modhh.serialno.isnull()] #verify if there's still added HHs with missing serialno"
   ]
  },
  {
   "cell_type": "code",
   "execution_count": null,
   "metadata": {},
   "outputs": [],
   "source": [
    "# read HHT from 2015 PUMS dataset and attach them to model HHs\n",
    "pumshhs = pd.read_csv('2015_synthpop_inputs/ss15hmi.csv', usecols=['SERIALNO', 'HHT'])\n",
    "modhh = pd.merge(modhh.reset_index(), pumshhs, left_on='serialno', right_on='SERIALNO', how='left').set_index('household_id')\n",
    "modhh.to_csv('abm_hhs_01282020_raw.csv', index_label = 'household_id' )"
   ]
  },
  {
   "cell_type": "code",
   "execution_count": null,
   "metadata": {},
   "outputs": [],
   "source": [
    "modhh.head()"
   ]
  },
  {
   "cell_type": "markdown",
   "execution_count": null,
   "metadata": {},
   "outputs": [],
   "source": [
    "## Extract work and edu related info from PUMS and attach to model persons"
   ]
  },
  {
   "cell_type": "code",
   "execution_count": null,
   "metadata": {},
   "outputs": [],
   "source": [
    "# add extra attributes from PUMS data to model persons\n",
    "modpp = stm['persons']\n",
    "modpp = pd.merge(modpp.reset_index(), modhh[['serialno', 'county']], left_on='household_id', right_index=True, how='left').set_index('person_id')\n",
    "\n",
    "ext_vars = ['SCHG', 'ESR', 'WKHP','WKW']\n",
    "pumspps = pd.read_csv('2015_synthpop_inputs/ss15pmi.csv', usecols=['SERIALNO', 'SPORDER'] + ext_vars)\n",
    "\n",
    "modpp = pd.merge(modpp.reset_index(), pumspps, left_on=['serialno', 'member_id'], right_on=['SERIALNO', 'SPORDER'], how='left').set_index('person_id')\n"
   ]
  },
  {
   "cell_type": "code",
   "execution_count": null,
   "metadata": {},
   "outputs": [],
   "source": [
    "modpp_added = modpp.loc[modpp.SERIALNO.isnull() ] #persons without proper HH id after joining(new person only in model inputs) \n",
    "modpp_match = modpp.loc[~modpp.SERIALNO.isnull() ] #persons in original synthesis\n",
    "\n"
   ]
  },
  {
   "cell_type": "code",
   "execution_count": null,
   "metadata": {},
   "outputs": [],
   "source": [
    "# for added persons, sample original person records with matching attributes\n",
    "t0=time.time()\n",
    "\n",
    "dfsample = []\n",
    "for ind, r in modpp_added.iterrows():\n",
    "    qlst = ['county', 'worker', 'sex',  'race_id', 'age']\n",
    "\n",
    "    for i in range(len(qlst)): \n",
    "        dfq = querylst(qlst, r, modpp_match) \n",
    "\n",
    "        if len(dfq) > 0:\n",
    "            dfsample.append(dfq.sample(1))\n",
    "            if len(dfsample) % 1000 == 0:\n",
    "                print (len(dfsample), round(time.time()-t0, 0), '|', end =\" \")\n",
    "            break\n",
    "        qlst = qlst[:-( i + 1)] # reduce qlst by one variable\n",
    "\n",
    "dfs = pd.concat(dfsample, axis=0) #combine all sampled records\n",
    "\n",
    "#update added model persons with extracted attributes\n",
    "for v in ext_vars:\n",
    "    modpp.loc[modpp.SERIALNO.isnull(), v] = dfs[v].values"
   ]
  },
  {
   "cell_type": "code",
   "execution_count": null,
   "metadata": {},
   "outputs": [],
   "source": [
    "modpp.to_csv('abm_persons_01282020_raw.csv')"
   ]
  },
  {
   "cell_type": "code",
   "execution_count": null,
   "metadata": {},
   "outputs": [],
   "source": [
    "modhh = pd.read_csv('abm_hhs_01282020_raw.csv', index_col = \"household_id\")\n",
    "modpp = pd.read_csv('abm_persons_01282020_raw.csv', index_col = \"person_id\")"
   ]
  },
  {
   "cell_type": "code",
   "execution_count": null,
   "metadata": {},
   "outputs": [],
   "source": [
    "# update person and household worker with new definition ESR in [1,2,4,5] \n",
    "modpp.loc[modpp.ESR.isin([1,2,4,5]), 'worker'] = 1\n",
    "modhh['workers'] = 0 #reset the values, cannot keep them\n",
    "modhh['workers'] = modpp.groupby('household_id').worker.sum()"
   ]
  },
  {
   "cell_type": "code",
   "execution_count": null,
   "metadata": {},
   "outputs": [],
   "source": [
    "modpp['pemploy'] = 2 #part time\n",
    "modpp.loc[modpp.age < 16, 'pemploy'] = 4  #under16\n",
    "modpp.loc[(modpp.age >= 16) & (modpp.ESR.isin([3,6])) , 'pemploy'] = 3 #not employed\n",
    "modpp.loc[(modpp.age >= 16) & (~modpp.ESR.isin([3,6])) & (modpp.WKHP >= 35) & (modpp.WKW.isin([1,2,3,4])), 'pemploy'] = 1  # full time"
   ]
  },
  {
   "cell_type": "code",
   "execution_count": null,
   "metadata": {},
   "outputs": [],
   "source": [
    "modpp.loc[(modpp.age >= 16) & (modpp.pemploy == 1), 'pstudent'] = 3 # not attending school\n",
    "modpp.loc[(modpp.age < 16) & (modpp.pemploy == 1), 'pstudent'] = 1 # high school or lower\n",
    "modpp.loc[modpp.SCHG.isnull() & (modpp.age >= 16), 'pstudent'] = 3\n",
    "modpp.loc[modpp.SCHG.isnull() & (modpp.age < 16), 'pstudent'] = 1\n",
    "modpp.loc[(modpp.pemploy != 1) & (modpp.SCHG >= 15) & (modpp.age >= 16), 'pstudent'] = 2\n",
    "modpp.loc[(modpp.pemploy != 1) & (modpp.SCHG >= 15) & (modpp.age < 16), 'pstudent'] = 1\n",
    "modpp.loc[(modpp.pemploy != 1) & (modpp.SCHG.isin(range(1,15))) & (modpp.age <= 19), 'pstudent'] = 1\n",
    "modpp.loc[(modpp.pemploy != 1) & (modpp.SCHG.isin(range(1,15))) & (modpp.age > 19), 'pstudent'] = 2 # college or higher\n"
   ]
  },
  {
   "cell_type": "code",
   "execution_count": null,
   "metadata": {},
   "outputs": [],
   "source": [
    "modpp.loc[modpp.pemploy == 1, 'ptype'] = 1\n",
    "modpp.loc[(modpp.pemploy == 2) & (modpp.pstudent == 3), 'ptype'] = 2\n",
    "modpp.loc[(modpp.age >= 65) & (modpp.pemploy.isin([3,4])) & (modpp.pstudent == 3), \n",
    "            'ptype'] = 5\n",
    "modpp.loc[(modpp.age < 6) & (modpp.pemploy.isin([3,4])) & (modpp.pstudent == 3), \n",
    "            'ptype'] = 8\n",
    "modpp.loc[((modpp.age >= 6) & (modpp.age <= 64)) & (modpp.pemploy.isin([3,4])) &                           (modpp.pstudent == 3) , 'ptype'] = 4\n",
    "modpp.loc[(modpp.pemploy.isin([2, 3, 4])) & (modpp.pstudent == 2) , 'ptype'] = 3\n",
    "modpp.loc[(modpp.age < 6) & (modpp.pemploy.isin([2,3,4])) & (modpp.pstudent == 1), \n",
    "            'ptype'] = 8\n",
    "modpp.loc[(modpp.age >= 16) & (modpp.pemploy.isin([2,3,4])) & (modpp.pstudent == 1), \n",
    "            'ptype'] = 6\n",
    "modpp.loc[((modpp.age >= 6) & (modpp.age < 16)) & (modpp.pemploy.isin([2,3,4])) &                       (modpp.pstudent == 1) , 'ptype'] = 7\n",
    "\n"
   ]
  },
  {
   "cell_type": "code",
   "execution_count": null,
   "metadata": {},
   "outputs": [],
   "source": [
    "modhh[['building_id', 'cars', 'workers', 'persons', 'race_id', 'income',\n",
    "       'age_of_head', 'children', 'parcel_id', 'census_bg_id', 'zone_id',\n",
    "       'county', 'tract', 'HHT']].to_csv('abm_hhs_01282020.csv')\n",
    "\n",
    "modpp[['relate', 'age', 'worker', 'sex', 'race_id', 'member_id',\n",
    "       'household_id', 'SCHG',\n",
    "       'WKHP', 'WKW', 'ESR', 'pemploy', 'pstudent', 'ptype']].to_csv('abm_persons_01282020.csv')"
   ]
  },
  {
   "cell_type": "code",
   "execution_count": null,
   "metadata": {},
   "outputs": [],
   "source": [
    "modpp.loc[modpp.SERIALNO.isnull()]"
   ]
  },
  {
   "cell_type": "code",
   "execution_count": null,
   "metadata": {},
   "outputs": [],
   "source": [
    "# RSG notes on ABM data inputs\n",
    "\n",
    "# Household attributes:\n",
    "# 1.\tHworkers: Yes, this is number of workers in the household based on each member’s Employment Status Recode (ESR). ESR is defined in PUMS as follows:\n",
    "# Members with ESR as 1, 2, 4 and 5 are counted as workers\n",
    "# 2.\tHHT: Yes, this is the original PUMS field – Household/family type\n",
    "\n",
    "\n",
    "# Person Type (ptype):\n",
    "# 1.\tThe ptype code is defined using the following PUMS person-level variables:\n",
    "# a.\tESR: Employment Status Recode (ESR)\n",
    "# b.\tWKHP: Usual hours worked per week past 12 months\n",
    "# c.\tWKW: Weeks worked during past 12 months\n",
    "# d.\tSCHG: Grade level attending\n",
    "# e.\tAGEP: Age\n",
    "\n",
    "# 2.\tThe person type is derived from person’s age, employment status (pemploy) and student status (pstudent).\n",
    "# 3.\tThe employment status is derived from ESR, WKHP, WKW and Age\n",
    "# 4.\tThe student status is derived from SCHG, Age and employment status\n",
    "\n",
    "# As long as we have ESR, WKHP, WKW, SCHG and AGEP in the person file, employment status, student status and person type can be derived.\n",
    "\n",
    "# We have documented the person type coding process for ODOT. Please follow this link for a  detailed description of person type coding logic: https://github.com/RSGInc/SOABM/wiki/Person-Type-Coding-in-SOABM\n",
    "\n",
    "# https://github.com/RSGInc/SOABM/wiki/Person-Type-Coding-in-SOABM\n",
    "# PUMS variable definitions( year unkown * different from 2015 definitions see below)\n",
    "# Employment status recode ESR\n",
    "#     b .N/A (less than 16 years old)\n",
    "#     1 .Civilian employed, at work\n",
    "#     2 .Civilian employed, with a job but not at work\n",
    "#     3 .Unemployed\n",
    "#     4 .Armed forces, at work\n",
    "#     5 .Armed forces, with a job but not at work\n",
    "#     6 .Not in labor force\n",
    "\n",
    "# WKHP\n",
    "# Usual hours worked per week past 12 months\n",
    "#     bb .N/A (less than 16 years old/did not work during the past 12 months)\n",
    "#     01..98 .1 to 98 usual hours\n",
    "#     99 .99 or more usual hours\n",
    "\n",
    "# WKW\n",
    "# Weeks worked during past 12 months\n",
    "#     b .N/A (less than 16 years old/did not work during the past 12 months)\n",
    "#     1 .50 to 52 weeks\n",
    "#     2 .48 to 49 weeks\n",
    "#     3 .40 to 47 weeks\n",
    "#     4 .27 to 39 weeks\n",
    "#     5 .14 to 26 weeks\n",
    "#     6 .13 weeks or less\n",
    "\n",
    "# ========================================================\n",
    "# SCHG https://github.com/RSGInc/SOABM/wiki/Person-Type-Coding-in-SOABM\n",
    "# Grade level attending\n",
    "#     b .N/A (not attending school)\n",
    "#     1 .Nursery school/preschool\n",
    "#     2 .Kindergarten\n",
    "#     3 .Grade 1 to grade 4\n",
    "#     4 .Grade 5 to grade 8\n",
    "#     5 .Grade 9 to grade 12\n",
    "#     6 .College undergraduate\n",
    "#     7 .Graduate or professional school\n",
    "#     AGEP\n",
    "#     Age\n",
    "#     00 .Under 1 year\n",
    "#     01..99 .1 to 99 years (Top-coded***)\n",
    "\n",
    "\n",
    "\n",
    "\n",
    "# SCHG (2015 PUMS variable codes, SEMCOG model base year data)\n",
    "# Grade level attending\n",
    "#     bb .N/A (not attending school)\n",
    "#     01 .Nursery school/preschool\n",
    "#     02 .Kindergarten\n",
    "#     03 .Grade 1\n",
    "#     04 .Grade 2\n",
    "#     05 .Grade 3\n",
    "#     06 .Grade 4\n",
    "#     07 .Grade 5\n",
    "#     08 .Grade 6\n",
    "#     09 .Grade 7\n",
    "#     10 .Grade 8\n",
    "#     11 .Grade 9\n",
    "#     12 .Grade 10\n",
    "#     13 .Grade 11\n",
    "#     14 .Grade 12\n",
    "#     15 .College undergraduate years (freshman to senior)\n",
    "#     16 .Graduate or professional school beyond a bachelor's degree"
   ]
  },
  {
   "cell_type": "code",
   "execution_count": null,
   "metadata": {},
   "outputs": [],
   "source": [
    "\n"
   ]
  }
 ],
 "metadata": {
  "kernelspec": {
   "name": "python37464bitbaseconda6f9e6f4ac8a84988b167991f607929ce",
   "display_name": "Python 3.7.4 64-bit ('base': conda)"
  }
 },
 "nbformat": 4,
 "nbformat_minor": 2
}