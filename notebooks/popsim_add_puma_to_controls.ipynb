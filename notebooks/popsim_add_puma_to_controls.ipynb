{
 "cells": [
  {
   "cell_type": "code",
   "metadata": {},
   "outputs": [],
   "source": [
    "import pandas as pd"
   ]
  },
  {
   "cell_type": "code",
   "metadata": {},
   "outputs": [],
   "source": [
    "# add PUMA to geo marginal controls\n",
    "dfc = pd.read_csv(\"data/oak_control_totals_blkgrp.csv\")\n",
    "dfc['blkgrpid'] = dfc['STATEFP'] * 10000000000 + dfc['COUNTYFP'] * 10000000 + dfc['TRACTCE'] * 10 + dfc['BLKGRPCE']\n",
    "\n",
    "dfg = pd.read_csv(\"data/sem_geo_cross_walk.csv\")\n",
    "print(dfc.columns.values)\n",
    "print(dfg.columns.values) "
   ]
  },
  {
   "cell_type": "code",
   "metadata": {},
   "outputs": [],
   "source": [
    "dfc = pd.merge(dfc, dfg[['BLKGRPID', 'PUMA']], left_on='blkgrpid', right_on='BLKGRPID', how='left')"
   ]
  },
  {
   "cell_type": "code",
   "metadata": {},
   "outputs": [],
   "source": [
    "dfc.to_csv(\"data/oak_control_totals_blkgrp.csv\")"
   ]
  }
 ],
 "metadata": {
  "kernelspec": {
   "display_name": "Python 3",
   "language": "python",
   "name": "python3"
  },
  "language_info": {
   "codemirror_mode": {
    "name": "ipython",
    "version": 3
   },
   "file_extension": ".py",
   "mimetype": "text/x-python",
   "name": "python",
   "nbconvert_exporter": "python",
   "pygments_lexer": "ipython3",
   "version": "3.7.4"
  }
 },
 "nbformat": 4,
 "nbformat_minor": 2
}