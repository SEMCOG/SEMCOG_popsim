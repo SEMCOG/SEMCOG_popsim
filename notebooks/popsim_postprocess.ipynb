{
 "metadata": {
  "language_info": {
   "codemirror_mode": {
    "name": "ipython",
    "version": 3
   },
   "file_extension": ".py",
   "mimetype": "text/x-python",
   "name": "python",
   "nbconvert_exporter": "python",
   "pygments_lexer": "ipython3",
   "version": "3.7.4-final"
  },
  "orig_nbformat": 2,
  "kernelspec": {
   "name": "python3",
   "display_name": "Python 3.7.4 64-bit (conda)",
   "metadata": {
    "interpreter": {
     "hash": "a8f61be024eba58adef938c9aa1e29e02cb3dece83a5348b1a2dafd16a070453"
    }
   }
  }
 },
 "nbformat": 4,
 "nbformat_minor": 2,
 "cells": [
  {
   "cell_type": "code",
   "execution_count": 1,
   "metadata": {},
   "outputs": [],
   "source": [
    "import pandas as pd"
   ]
  },
  {
   "cell_type": "code",
   "execution_count": 2,
   "metadata": {},
   "outputs": [],
   "source": [
    "outfolder = \"../output/2018_run2/\""
   ]
  },
  {
   "cell_type": "code",
   "execution_count": 3,
   "metadata": {},
   "outputs": [],
   "source": [
    "dfh = pd.read_csv(outfolder + 'synthetic_households.csv', index_col = 'household_id')\n",
    "dfp = pd.read_csv(outfolder + 'synthetic_persons.csv')"
   ]
  },
  {
   "cell_type": "code",
   "execution_count": 6,
   "metadata": {},
   "outputs": [
    {
     "output_type": "stream",
     "name": "stdout",
     "text": [
      "household_id\nIndex(['puma', 'tract', 'blkgrp', 'hh_id', 'persons', 'cars', 'hincp', 'r18',\n       'age_of_head', 'race_id', 'hhisp', 'hworkers', 'adjinc', 'children',\n       'type', 'ybl', 'bld', 'valp', 'rent', 'adjhsg', 'ten', 'hht'],\n      dtype='object')\nNone\nIndex(['puma', 'tract', 'blkgrp', 'hh_id', 'household_id', 'member_id', 'age',\n       'sex', 'esr', 'race_id', 'relate', 'hisp', 'naicsp', 'industry', 'wkhp',\n       'wkw', 'schg', 'mil', 'pincp'],\n      dtype='object')\n"
     ]
    }
   ],
   "source": [
    "print(dfh.index.name)\n",
    "print(dfh.columns)\n",
    "print(dfp.index.name)\n",
    "print(dfp.columns)"
   ]
  },
  {
   "cell_type": "code",
   "execution_count": 5,
   "metadata": {},
   "outputs": [],
   "source": [
    "dfh.columns = [x.lower() for x in dfh.columns]\n",
    "dfp.columns = [x.lower() for x in dfp.columns]\n",
    "dfh.rename(columns={'grntp': 'rent',\n",
    "                    'np': 'persons',\n",
    "                    'race_of_head': 'race_id',\n",
    "                    'veh': 'cars',\n",
    "                    'noc': 'children',\n",
    "                    'agehoh':'age_of_head',\n",
    "                    'hrace':'race_id'\n",
    "                    }, inplace=True)\n",
    "dfp.rename(columns={'agep': 'age',\n",
    "                     'rac1p': 'race_id',\n",
    "                     'relp': 'relate',\n",
    "                     'per_num': 'member_id',\n",
    "                     }, inplace=True)\n"
   ]
  },
  {
   "cell_type": "code",
   "execution_count": 7,
   "metadata": {},
   "outputs": [],
   "source": [
    "# add person_id, household_id + member_id\n",
    "dfp['person_id'] = dfp['household_id'] * 100 + dfp['member_id']\n",
    "dfp = dfp.set_index('person_id')\n",
    "\n",
    "# add county\n",
    "dfh['county'] = dfh['tract'].astype(str).str[2:5].astype(int)\n",
    "dfp['county'] = dfp['tract'].astype(str).str[2:5].astype(int)\n",
    "\n",
    "\n",
    "# synthesized hrace/race_id: 1: white 2: black, 3: asian, 4: others\n",
    "# synthesized hhisp: 0: not hisp 1: hisp\n",
    "# target race_id: 1, non-hisp white; 2. non-hisp black, 3. hisp 4. others\n",
    "dfh.loc[dfh.race_id > 2, 'race_id'] = 4\n",
    "dfh.loc[dfh.hhisp == 1, 'race_id'] = 3\n",
    "\n",
    "#hh inc: hincp * adjinc / 1000,000\n",
    "# keep 'hincp' and 'adjinc' for ABM\n",
    "dfh[\"income\"] = dfh['hincp']\n",
    "dfh[\"income\"] *= dfh[\"adjinc\"] / 1000000.0\n",
    "\n",
    "#hh rent: grntp * adjhsg / 1000,000\n",
    "dfh[\"rent\"] *= dfh[\"adjhsg\"] / 1000000.0\n",
    "\n",
    "#update number of workers from persons table since only family workers counted in HH table\n",
    "#in regional forecast, worker = labor force, different from travel model and Census (worker =  employed )\n",
    "# ESR Character 1\n",
    "# Employment status recode\n",
    "# b .N/A (less than 16 years old)\n",
    "# 1 .Civilian employed, at work\n",
    "# 2 .Civilian employed, with a job but not at work\n",
    "# 3 .Unemployed\n",
    "# 4 .Armed forces, at work\n",
    "# 5 .Armed forces, with a job but not at work\n",
    "# 6 .Not in labor force\n",
    "dfp['worker'] = 0\n",
    "dfp.loc[dfp.esr.isin(range(1,6)),'worker'] = 1\n",
    "dfh['workers'] = dfp.groupby('household_id').worker.sum()\n",
    "\n",
    "#update number of childrens(AGEP<18) from persons table since NOC has only\n",
    "dfp['child'] = 0\n",
    "dfp.loc[(dfp.age<18),'child'] = 1\n",
    "dfh['children'] = dfp.groupby('household_id').child.sum()\n",
    "\n",
    "#person race_id, same as HH race_id\n",
    "dfp.loc[dfp.race_id > 2, 'race_id'] = 4\n",
    "dfp.loc[dfp.hisp > 1, 'race_id'] = 3"
   ]
  },
  {
   "cell_type": "code",
   "execution_count": 8,
   "metadata": {},
   "outputs": [],
   "source": [
    "dfh[['county', 'tract', 'blkgrp', 'persons', 'cars', 'income', 'hincp', 'adjinc',\n",
    "       'age_of_head', 'race_id', 'children',\n",
    "       'type', 'ybl', 'bld', 'valp', 'rent', 'ten', 'hht',\n",
    "       'workers']].to_csv(outfolder + 'synthetic_households_processed.csv')\n",
    "\n",
    "dfp[['county', 'tract', 'blkgrp', 'household_id', 'member_id', 'age',\n",
    "       'sex', 'race_id', 'relate', 'naicsp', 'industry', 'wkhp',\n",
    "       'wkw', 'schg', 'mil', 'pincp']].to_csv(outfolder + 'synthetic_persons_processed.csv')"
   ]
  },
  {
   "cell_type": "code",
   "execution_count": null,
   "metadata": {},
   "outputs": [],
   "source": [
    "\n",
    " "
   ]
  }
 ]
}