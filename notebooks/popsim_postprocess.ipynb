{
 "metadata": {
  "language_info": {
   "codemirror_mode": {
    "name": "ipython",
    "version": 3
   },
   "file_extension": ".py",
   "mimetype": "text/x-python",
   "name": "python",
   "nbconvert_exporter": "python",
   "pygments_lexer": "ipython3",
   "version": "3.7.4-final"
  },
  "orig_nbformat": 2,
  "kernelspec": {
   "name": "python3",
   "display_name": "Python 3.7.4 64-bit (conda)",
   "metadata": {
    "interpreter": {
     "hash": "a8f61be024eba58adef938c9aa1e29e02cb3dece83a5348b1a2dafd16a070453"
    }
   }
  }
 },
 "nbformat": 4,
 "nbformat_minor": 2,
 "cells": [
  {
   "cell_type": "code",
   "execution_count": null,
   "metadata": {},
   "outputs": [],
   "source": [
    "import pandas as pd"
   ]
  },
  {
   "cell_type": "code",
   "execution_count": null,
   "metadata": {},
   "outputs": [],
   "source": [
    "outfolder = \"../output/2018_run2/\""
   ]
  },
  {
   "cell_type": "code",
   "execution_count": null,
   "metadata": {},
   "outputs": [],
   "source": [
    "dfh = pd.read_csv(outfolder + 'synthetic_households.csv', index_col = 'household_id')\n",
    "dfp = pd.read_csv(outfolder + 'synthetic_persons.csv')"
   ]
  },
  {
   "cell_type": "code",
   "execution_count": null,
   "metadata": {},
   "outputs": [],
   "source": [
    "print(dfh.index.name)\n",
    "print(dfh.columns)\n",
    "print(dfp.index.name)\n",
    "print(dfp.columns)"
   ]
  },
  {
   "cell_type": "code",
   "execution_count": null,
   "metadata": {},
   "outputs": [],
   "source": [
    "dfh.columns = [x.lower() for x in dfh.columns]\n",
    "dfp.columns = [x.lower() for x in dfp.columns]\n",
    "dfh.rename(columns={'grntp': 'rent',\n",
    "                    'np': 'persons',\n",
    "                    'race_of_head': 'race_id',\n",
    "                    'veh': 'cars',\n",
    "                    'noc': 'children',\n",
    "                    'agehoh':'age_of_head',\n",
    "                    'hrace':'race_id'\n",
    "                    }, inplace=True)\n",
    "dfp.rename(columns={'agep': 'age',\n",
    "                     'rac1p': 'race_id',\n",
    "                     'relp': 'relate',\n",
    "                     'per_num': 'member_id',\n",
    "                     }, inplace=True)\n"
   ]
  },
  {
   "cell_type": "code",
   "execution_count": null,
   "metadata": {},
   "outputs": [],
   "source": [
    "# add person_id, household_id + member_id\n",
    "dfp['person_id'] = dfp['household_id'] * 100 + dfp['member_id']\n",
    "dfp = dfp.set_index('person_id')\n",
    "\n",
    "# add county\n",
    "dfh['county'] = dfh['tract'].astype(str).str[2:5].astype(int)\n",
    "dfp['county'] = dfp['tract'].astype(str).str[2:5].astype(int)\n",
    "\n",
    "\n",
    "# synthesized hrace/race_id: 1: white 2: black, 3: asian, 4: others\n",
    "# synthesized hhisp: 0: not hisp 1: hisp\n",
    "# target race_id: 1, non-hisp white; 2. non-hisp black, 3. hisp 4. others\n",
    "dfh.loc[dfh.race_id > 2, 'race_id'] = 4\n",
    "dfh.loc[dfh.hhisp == 1, 'race_id'] = 3\n",
    "\n",
    "#hh inc: hincp * adjinc / 1000,000\n",
    "# keep 'hincp' and 'adjinc' for ABM\n",
    "dfh[\"income\"] = dfh['hincp']\n",
    "dfh[\"income\"] *= dfh[\"adjinc\"] / 1000000.0\n",
    "\n",
    "#hh rent: grntp * adjhsg / 1000,000\n",
    "dfh[\"rent\"] *= dfh[\"adjhsg\"] / 1000000.0\n",
    "\n",
    "#update number of workers from persons table since only family workers counted in HH table\n",
    "#in regional forecast, worker = labor force, different from travel model and Census (worker =  employed )\n",
    "# ESR Character 1\n",
    "# Employment status recode\n",
    "# b .N/A (less than 16 years old)\n",
    "# 1 .Civilian employed, at work\n",
    "# 2 .Civilian employed, with a job but not at work\n",
    "# 3 .Unemployed\n",
    "# 4 .Armed forces, at work\n",
    "# 5 .Armed forces, with a job but not at work\n",
    "# 6 .Not in labor force\n",
    "dfp['worker'] = 0\n",
    "dfp.loc[dfp.esr.isin(range(1,6)),'worker'] = 1\n",
    "dfh['workers'] = dfp.groupby('household_id').worker.sum()\n",
    "\n",
    "#update number of childrens(AGEP<18) from persons table since NOC has only\n",
    "dfp['child'] = 0\n",
    "dfp.loc[(dfp.age<18),'child'] = 1\n",
    "dfh['children'] = dfp.groupby('household_id').child.sum()\n",
    "\n",
    "#person race_id, same as HH race_id\n",
    "dfp.loc[dfp.race_id > 2, 'race_id'] = 4\n",
    "dfp.loc[dfp.hisp > 1, 'race_id'] = 3\n",
    "\n",
    "#\n",
    "# recode NAICSP to industry\n",
    "    # https://www2.census.gov/programs-surveys/acs/tech_docs/code_lists/2018_ACS_Code_Lists.pdf\n",
    "    # summary table example https://www.socialexplorer.com/data/ACS2017_5yr/metadata/?ds=ACS17_5yr&table=B08126\n",
    "naics_18ind = {\n",
    "        \"11\": 1,\n",
    "        \"21\": 1,\n",
    "        \"23\": 2,\n",
    "        \"31\": 3,\n",
    "        \"32\": 3,\n",
    "        \"33\": 3,\n",
    "        \"3M\": 3,\n",
    "        \"42\": 4,\n",
    "        \"44\": 5,\n",
    "        \"45\": 5,\n",
    "        \"4M\": 5,\n",
    "        \"48\": 6,\n",
    "        \"49\": 6,\n",
    "        \"22\": 7,\n",
    "        \"51\": 8,\n",
    "        \"52\": 9,\n",
    "        \"53\": 9,\n",
    "        \"54\": 10,\n",
    "        \"55\": 11,\n",
    "        \"56\": 12,\n",
    "        \"61\": 13,\n",
    "        \"6S\": 14, #['621', '623', '624'] -> '6S'\n",
    "        \"62\": 15, # <- '622'\n",
    "        \"71\": 16,\n",
    "        \"72\": 16,\n",
    "        \"81\": 17,\n",
    "        \"92\": 18,\n",
    "        \"99\": 0\n",
    "}\n",
    "dfp[\"industry\"] = dfp.naicsp.str[:3]\n",
    "dfp.industry.replace(['621', '623', '624'], '6S', inplace=True)\n",
    "dfp.industry = dfp.industry.str[:2]\n",
    "dfp.industry.replace(naics_18ind, inplace=True)\n",
    "dfp.loc[dfp.naicsp.isnull(), \"industry\"] = 0\n",
    "#dfp.industry = dfp.industry.astype(int)\n",
    "\n",
    "\n",
    "\n"
   ]
  },
  {
   "cell_type": "code",
   "execution_count": null,
   "metadata": {},
   "outputs": [],
   "source": [
    "dfh[['county', 'tract', 'blkgrp', 'persons', 'cars', 'income', 'hincp', 'adjinc',\n",
    "       'age_of_head', 'race_id', 'children',\n",
    "       'type', 'ybl', 'bld', 'valp', 'rent', 'ten', 'hht',\n",
    "       'workers']].to_csv(outfolder + 'synthetic_households_processed.csv')\n",
    "\n",
    "dfp[['county', 'tract', 'blkgrp', 'household_id', 'member_id', 'age',\n",
    "       'sex', 'race_id', 'relate', 'naicsp', 'industry', 'wkhp',\n",
    "       'wkw', 'schg', 'mil', 'pincp', 'naicsp', 'industry']].to_csv(outfolder + 'synthetic_persons_processed.csv')"
   ]
  },
  {
   "cell_type": "code",
   "execution_count": null,
   "metadata": {},
   "outputs": [],
   "source": [
    "\n",
    " "
   ]
  }
 ]
}