{
 "cells": [
  {
   "cell_type": "code",
   "execution_count": null,
   "metadata": {},
   "outputs": [],
   "source": [
    "%load_ext autoreload\n",
    "%autoreload 2\n",
    "from synthpop.recipes.starter6 import Starter\n",
    "from synthpop.synthesizer import synthesize_all, synthesize_all_in_parallel_full, enable_logging \n",
    "import os\n",
    "import pandas as pd\n",
    "#enable_logging()"
   ]
  },
  {
   "cell_type": "code",
   "execution_count": null,
   "metadata": {},
   "outputs": [],
   "source": [
    "census_key = os.environ[\"CENSUS\"]\n",
    "state_name = \"MI\"\n",
    "county_name = \"Oakland County\"\n",
    "starter = Starter(census_key, state_name, county_name)"
   ]
  },
  {
   "cell_type": "code",
   "execution_count": null,
   "metadata": {},
   "outputs": [],
   "source": [
    "# make lookup series for HH and Person marginals\n",
    "ps_m = {}\n",
    "ps_m['h'] = pd.Series({('hh_age_of_head', 'ge25-lt45'):'HHAGE2',\n",
    " ('hh_age_of_head', 'ge45-lt65'):'HHAGE3',\n",
    " ('hh_age_of_head', 'ge65'):'HHAGE4',\n",
    " ('hh_age_of_head', 'lt25'):'HHAGE1',\n",
    " ('hh_cars', 'none'):'HHCAR0',\n",
    " ('hh_cars', 'one'):'HHCAR1',\n",
    " ('hh_cars', 'two or more'):'HHCAR2',\n",
    " ('hh_children', 'no'):'HHCHD2',\n",
    " ('hh_children', 'yes'):'HHCHD1',\n",
    " ('hh_income', 'gt100'):'HHINC4',\n",
    " ('hh_income', 'gt30-lt60'):'HHINC2',\n",
    " ('hh_income', 'gt60-lt100'):'HHINC3',\n",
    " ('hh_income', 'lt30'):'HHINC1',\n",
    " ('hh_race_of_head', 'asian'):'HHRACE3',\n",
    " ('hh_race_of_head', 'black'):'HHRACE2',\n",
    " ('hh_race_of_head', 'other'):'HHRACE4',\n",
    " ('hh_race_of_head', 'white'):'HHRACE1',\n",
    " ('hh_size', 'five'):'HHPERSONS5',\n",
    " ('hh_size', 'four'):'HHPERSONS4',\n",
    " ('hh_size', 'one'):'HHPERSONS1',\n",
    " ('hh_size', 'seven or more'):'HHPERSONS7',\n",
    " ('hh_size', 'six'):'HHPERSONS6',\n",
    " ('hh_size', 'three'):'HHPERSONS3',\n",
    " ('hh_size', 'two'):'HHPERSONS2',\n",
    " ('hh_workers', 'none'):'HHWORKER0',\n",
    " ('hh_workers', 'one'):'HHWORKER1',\n",
    " ('hh_workers', 'two or more'):'HHWORKER2',\n",
    " ('hispanic_head', 'no'):'HHHISP1',\n",
    " ('hispanic_head', 'yes'):'HHHISP2'})\n",
    "\n",
    "ps_m['p'] = pd.Series({('person_age', '17 and under'):'AGEP1',\n",
    " ('person_age', '18 to 64'):'AGEP2',\n",
    " ('person_age', '65 and up'):'AGEP3',\n",
    " ('person_sex', 'female'):'SEX2',\n",
    " ('person_sex', 'male'):'SEX1',\n",
    " ('race', 'asian'):'RACE3',\n",
    " ('race', 'black'):'RACE2',\n",
    " ('race', 'other'):'RACE4',\n",
    " ('race', 'white'):'RACE1'})"
   ]
  },
  {
   "cell_type": "code",
   "execution_count": null,
   "metadata": {},
   "outputs": [],
   "source": [
    "indexes = starter.get_available_geography_ids()\n",
    "#geog_ids = []\n",
    "dict_marg = {'h':[], 'p':[]}\n",
    "\n",
    "for i, geog_id in enumerate(indexes):\n",
    "    #geog_ids.append(geog_id)\n",
    "    dict_marg['h'].append(starter.get_household_marginal_for_geography(geog_id))\n",
    "    dict_marg['p'].append(starter.get_person_marginal_for_geography(geog_id))\n"
   ]
  },
  {
   "cell_type": "code",
   "execution_count": null,
   "metadata": {},
   "outputs": [],
   "source": [
    "dict_total = {'h':\"HHBASE\", 'p':\"POPBASE\"}\n",
    "dict_m = {}\n",
    "\n",
    "for m in ['h', 'p']:\n",
    "    df_m = pd.concat(dict_marg[m], axis=1)\n",
    "    ps_t = df_m.sum(level=0).mean().round(0)\n",
    "    df_m['controls'] = ps_m[m].values\n",
    "    df_m = df_m.reset_index(drop=True).set_index('controls').T\n",
    "    df_m.index.set_names(['STATEFP','COUNTYFP','TRACTCE','BLKGRPCE'], inplace = True)\n",
    "    df_m[dict_total[m]]=ps_t.values\n",
    "    dict_m[m] = df_m\n",
    "\n"
   ]
  },
  {
   "cell_type": "code",
   "execution_count": null,
   "metadata": {},
   "outputs": [],
   "source": [
    "df_blkgrp = pd.concat(dict_m.values(), axis = 1)\n",
    "df_blkgrp['BLKGRP'] = [ ''.join(x) for x in df_blkgrp.index.to_numpy()] # get unique BLKGRP \n",
    "df_blkgrp.to_csv('control_totals_' + county_name + '_blkgrp.csv')\n",
    "\n",
    "\n"
   ]
  },
  {
   "cell_type": "code",
   "execution_count": null,
   "metadata": {
    "scrolled": true
   },
   "outputs": [],
   "source": [
    "df_blkgrp['TRACT'] = df_blkgrp['BLKGRP'].str[:-1]\n",
    "df_blkgrp.drop('BLKGRP',axis=1,inplace=True)\n",
    "df_tract = df_blkgrp.groupby(\"TRACT\").sum()\n",
    "df_tract.to_csv('control_totals_' + county_name + '_tract.csv')\n"
   ]
  },
  {
   "cell_type": "code",
   "execution_count": null,
   "metadata": {},
   "outputs": [],
   "source": [
    "df_blkgrp['COUNTY'] = df_blkgrp.index.get_level_values(1)"
   ]
  },
  {
   "cell_type": "code",
   "execution_count": null,
   "metadata": {},
   "outputs": [],
   "source": [
    "df_region = df_blkgrp.groupby('COUNTY').sum()\n",
    "df_region.to_csv('control_totals_' + county_name + '_region.csv')"
   ]
  },
  {
   "cell_type": "code",
   "execution_count": null,
   "metadata": {},
   "outputs": [],
   "source": []
  },
  {
   "cell_type": "code",
   "execution_count": null,
   "metadata": {},
   "outputs": [],
   "source": []
  }
 ],
 "metadata": {
  "file_extension": ".py",
  "kernelspec": {
   "display_name": "Python 3",
   "language": "python",
   "name": "python3"
  },
  "language_info": {
   "codemirror_mode": {
    "name": "ipython",
    "version": 3
   },
   "file_extension": ".py",
   "mimetype": "text/x-python",
   "name": "python",
   "nbconvert_exporter": "python",
   "pygments_lexer": "ipython3",
   "version": "3.7.4"
  },
  "mimetype": "text/x-python",
  "name": "python",
  "npconvert_exporter": "python",
  "pygments_lexer": "ipython3",
  "version": 3
 },
 "nbformat": 4,
 "nbformat_minor": 2
}