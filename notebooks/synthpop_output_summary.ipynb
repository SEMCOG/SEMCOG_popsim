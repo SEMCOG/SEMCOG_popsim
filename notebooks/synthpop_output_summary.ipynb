{
 "nbformat": 4,
 "nbformat_minor": 2,
 "metadata": {
  "language_info": {
   "name": "python",
   "codemirror_mode": {
    "name": "ipython",
    "version": 3
   },
   "version": "3.7.4"
  },
  "orig_nbformat": 2,
  "file_extension": ".py",
  "mimetype": "text/x-python",
  "name": "python",
  "npconvert_exporter": "python",
  "pygments_lexer": "ipython3",
  "version": 3
 },
 "cells": [
  {
   "cell_type": "code",
   "execution_count": 1,
   "metadata": {},
   "outputs": [],
   "source": [
    "# produce synthpop output summary table in the same format as popsim summarization table\n",
    "# need inputs: synthpop HHs and persons, populationsim controls table, popsim summarization table"
   ]
  },
  {
   "cell_type": "code",
   "execution_count": 2,
   "metadata": {},
   "outputs": [],
   "source": [
    "import pandas as pd\n",
    "import numpy as np"
   ]
  },
  {
   "cell_type": "code",
   "execution_count": 3,
   "metadata": {},
   "outputs": [],
   "source": [
    "region = \"oakland\"\n",
    "geo = \"BLKGRP\"\n",
    "\n",
    "popsim_controls = 'configs/controls.csv'\n",
    "popsim_summary = 'output/summary_BLKGRP.csv'\n",
    "synpop_out_hh = 'synthpop/oak_all_households.csv'\n",
    "synpop_out_pop = 'synthpop/oak_all_persons.csv'\n"
   ]
  },
  {
   "cell_type": "code",
   "execution_count": 4,
   "metadata": {},
   "outputs": [],
   "source": [
    "#add query_str column by parsing expressions\n",
    "popsim_controls =  pd.read_csv(popsim_controls)\n",
    "repd = {\"households.\":\"\", \"persons.\": \"\", \"np.inf\":\"inf\",\".isin\":\" in \" }\n",
    "popsim_controls['query_str'] = popsim_controls['expression']\n",
    "for k in repd.keys():\n",
    "    popsim_controls['query_str'] = popsim_controls['query_str'].str.replace(k, repd[k])"
   ]
  },
  {
   "cell_type": "code",
   "execution_count": 5,
   "metadata": {},
   "outputs": [],
   "source": [
    "# from popsim controls extract needed variables in households and Persons\n",
    "# vsplit = re.split('[^a-zA-Z0-9]', \" \".join(popsim_controls['expression']))\n",
    "# indhh = [i+1 for i, x in enumerate(vsplit) if x == \"households\"]\n",
    "# vhh = set([vsplit[x] for x in indhh])\n",
    "# indpp = [i+1 for i, x in enumerate(vsplit) if x == \"persons\"]\n",
    "# vpp = set([vsplit[x] for x in indpp])\n",
    "# print(vhh, vpp)"
   ]
  },
  {
   "cell_type": "code",
   "execution_count": 6,
   "metadata": {},
   "outputs": [
    {
     "name": "stdout",
     "output_type": "stream",
     "text": "hhs 499379 pop 1182819\n"
    }
   ],
   "source": [
    "\n",
    "#load HHs and Persons with predefined columns\n",
    "hcols = ['Unnamed: 0','serialno', 'RT', 'DIVISION', 'puma10', 'REGION', 'ST', 'ADJHSG', 'ADJINC', 'WGTP', 'NP','R18', 'HINCP','VEH', 'TYPE', 'race_of_head', 'hispanic_head', 'age_of_head','workers', 'hh_age_of_head', 'hh_cars', 'hh_children', 'hh_income', 'hh_race_of_head', 'hh_size', 'hh_workers', 'cat_id', 'state', 'county', 'tract', 'block group']\n",
    "\n",
    "pcols = ['RT', 'serialno', 'DIVISION', 'SPORDER', 'puma10','REGION', 'ST', 'ADJINC', 'RELP', 'PWGTP', 'AGEP', 'RAC1P','HISP', 'ESR', 'SEX', 'puma00', 'person_age', 'person_sex', 'race', 'cat_id', 'hh_id']\n",
    "\n",
    "households = pd.read_csv(synpop_out_hh, usecols = hcols)\n",
    "persons = pd.read_csv(synpop_out_pop, usecols = pcols)\n",
    "\n",
    "households.columns = map(str.upper, households.columns)\n",
    "persons.columns = map(str.upper, persons.columns)\n",
    "households = households.set_index(households.columns[0])\n",
    "print ('hhs', len(households), 'pop', len(persons))"
   ]
  },
  {
   "cell_type": "code",
   "execution_count": 7,
   "metadata": {},
   "outputs": [],
   "source": [
    "# prepare HH and Persons variables needed for query\n",
    "households['BLKGRP'] = households.STATE  * 10000000000 + households.COUNTY * 10000000 +  households.TRACT * 10 +  households['BLOCK GROUP']\n",
    "persons = pd.merge(persons, households[['BLKGRP']], left_on = 'HH_ID', right_index = True, how = 'left')\n",
    "\n",
    "hage = persons.loc[persons.RELP == 0].groupby('HH_ID').AGEP.max()\n",
    "households.loc[hage.index, 'AGEHOH'] = hage.values\n",
    "\n",
    "# add HRACE to PUMS sample\n",
    "hrace = persons.loc[persons.RELP == 0].groupby('HH_ID').RAC1P.max()\n",
    "households[\"v0\"] = hrace.values\n",
    "households[\"HRACE\"] = 4\n",
    "households.loc[households.v0 == 1, \"HRACE\"] = 1\n",
    "households.loc[households.v0 == 2, \"HRACE\"] = 2\n",
    "households.loc[households.v0 == 6, \"HRACE\"] = 3\n",
    "\n",
    "# add HHISP to PUMS sample\n",
    "hisp = persons.loc[persons.RELP == 0].groupby('HH_ID').HISP.max()\n",
    "households[\"v0\"] = hisp.values\n",
    "households[\"HHISP\"] = 0\n",
    "households.loc[households.v0 > 1, \"HHISP\"] = 1\n",
    "\n",
    "# add HWORKERS to PUMS sample\n",
    "workers = persons.loc[persons.ESR.isin([1,2,4,5])].groupby('HH_ID').size()\n",
    "households['v0'] = 0\n",
    "households.loc[workers.index, \"v0\"] = workers.values\n",
    "households[\"HWORKERS\"] = 0\n",
    "households.loc[households.v0 == 1, \"HWORKERS\"] = 1\n",
    "households.loc[households.v0 >= 2, \"HWORKERS\"] = 2\n",
    "\n",
    "households.drop(\"v0\", axis = 1, inplace = True)\n"
   ]
  },
  {
   "cell_type": "code",
   "execution_count": 8,
   "metadata": {},
   "outputs": [],
   "source": [
    "#summarized by BLKGRP\n",
    "dfgrp = pd.DataFrame(households['BLKGRP'].unique(), columns = ['BLKGRP'])\n",
    "dfgrp = dfgrp.set_index('BLKGRP')\n",
    "\n",
    "for ind, r in popsim_controls.iterrows():\n",
    "    tb = eval(r.seed_table)\n",
    "    dfgrp[r.target + '_synpop'] = tb.query(r.query_str).groupby('BLKGRP').size()\n",
    "dfgrp.fillna(0, inplace = True)"
   ]
  },
  {
   "cell_type": "code",
   "execution_count": 9,
   "metadata": {},
   "outputs": [],
   "source": [
    "#merge Census marginal controls and synthpop summary and compute differences\n",
    "dfsum_popsim = pd.read_csv(popsim_summary, index_col = 'id')\n",
    "flds = [x.replace('_control', '') for x in dfsum_popsim.columns.values if x.find('_control') >=0 ]\n",
    "controls = [ x + '_control' for x in flds]\n",
    "diffs = [ x + '_diff' for x in flds]\n",
    "dfsum_popsim = dfsum_popsim[controls]\n",
    "\n",
    "dfgrp = pd.merge(dfsum_popsim, dfgrp, left_index=True, right_index = True)\n",
    "for fld in flds:\n",
    "    dfgrp[fld + \"_diff\"] = dfgrp[fld + \"_synpop\"] - dfgrp[fld + \"_control\"]\n",
    "\n",
    "dfgrp = dfgrp.replace([np.inf, -np.inf], np.nan)\n",
    "dfgrp.fillna(0, inplace=True)\n",
    "dfgrp.index.name = 'geography'\n",
    "\n",
    "dfgrp.to_csv(region + '_' + geo + '_summary.csv')"
   ]
  },
  {
   "cell_type": "code",
   "metadata": {},
   "outputs": [],
   "source": []
  }
 ]
}