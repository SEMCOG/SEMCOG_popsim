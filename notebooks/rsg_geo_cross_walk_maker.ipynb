{
 "cells": [
  {
   "cell_type": "code",
   "execution_count": null,
   "metadata": {},
   "outputs": [],
   "source": [
    "import pandas as pd"
   ]
  },
  {
   "cell_type": "code",
   "execution_count": null,
   "metadata": {},
   "outputs": [],
   "source": [
    "#examine current cross_walk file\n",
    "#calm = pd.read_csv(\"data/geo_cross_walk.csv\")\n",
    "#calm.head(2)"
   ]
  },
  {
   "cell_type": "code",
   "execution_count": null,
   "metadata": {},
   "outputs": [],
   "source": [
    "%cd .."
   ]
  },
  {
   "cell_type": "markdown",
   "metadata": {},
   "source": [
    "# read and prepare block file"
   ]
  },
  {
   "cell_type": "code",
   "execution_count": null,
   "metadata": {},
   "outputs": [],
   "source": [
    "sem = pd.read_csv(\"data/semcog_block2010.txt\")\n",
    "\n"
   ]
  },
  {
   "cell_type": "code",
   "execution_count": null,
   "metadata": {},
   "outputs": [],
   "source": []
  },
  {
   "cell_type": "code",
   "execution_count": null,
   "metadata": {},
   "outputs": [],
   "source": [
    "#read semcog block GIS file\n",
    "sem = pd.read_csv(\"data/semcog_block2010.txt\") \n",
    "semblk = sem.loc[sem.SUBTYPECD == 1][['GEOID10']]\n",
    "print(semblk.dtypes)\n",
    "semblk['GEOID10'].head(2)"
   ]
  },
  {
   "cell_type": "code",
   "execution_count": null,
   "metadata": {},
   "outputs": [],
   "source": [
    "semblk['BLKGRPID'] = semblk['GEOID10'].apply(str).str[:12].apply(int) # get block group id\n",
    "semblk.drop_duplicates(subset = ['BLKGRPID'], inplace = True)  # drop duplicated BG\n",
    "semblk['TRACT'] = semblk['GEOID10'].apply(str).str[5:11].apply(int)\n",
    "semblk['BLKGRP'] = semblk['GEOID10'].apply(str).str[11].apply(int)\n",
    "semblk['TRACTID'] = semblk['GEOID10'].apply(str).str[:11].apply(int)"
   ]
  },
  {
   "cell_type": "code",
   "execution_count": null,
   "metadata": {},
   "outputs": [],
   "source": [
    "# read 2010 tract to puma file from Census\n",
    "tract_puma = pd.read_csv(\"data/2010_Census_Tract_to_2010_PUMA.txt\")\n",
    "tract_puma = tract_puma.loc[tract_puma.STATEFP == 26]\n",
    "tract_puma['TRACTID'] = tract_puma['STATEFP'] * 1000000000 + tract_puma['COUNTYFP'] * 1000000 + tract_puma['TRACTCE']\n",
    "tract_puma.head(2)"
   ]
  },
  {
   "cell_type": "code",
   "execution_count": null,
   "metadata": {},
   "outputs": [],
   "source": [
    "tract_puma.loc[tract_puma.duplicated(subset=['TRACTID'])]\n",
    "#semblk.loc[semblk.duplicated(subset=['TRACTID'])]"
   ]
  },
  {
   "cell_type": "code",
   "execution_count": null,
   "metadata": {},
   "outputs": [],
   "source": [
    "# merge block group file with puma file\n",
    "semblkgrp = pd.merge(semblk, tract_puma, left_on = 'TRACTID', right_on = 'TRACTID', how = 'left')\n"
   ]
  },
  {
   "cell_type": "code",
   "execution_count": null,
   "metadata": {},
   "outputs": [],
   "source": [
    "semblkgrp.dtypes"
   ]
  },
  {
   "cell_type": "code",
   "execution_count": null,
   "metadata": {},
   "outputs": [],
   "source": [
    "semblkgrp['REGION'] = 4\n",
    "semblkgrp.rename(columns = {'PUMA5CE': 'PUMA'}, inplace = True)"
   ]
  },
  {
   "cell_type": "code",
   "execution_count": null,
   "metadata": {},
   "outputs": [],
   "source": [
    "semblkgrp.to_csv(\"data/sem_geo_cross_walk.csv\")"
   ]
  },
  {
   "cell_type": "code",
   "execution_count": null,
   "metadata": {},
   "outputs": [],
   "source": [
    "oakblkgrp = semblkgrp.loc[semblkgrp.COUNTYFP == 125 ]\n",
    "oakblkgrp.to_csv(\"data/oak_geo_cross_walk.csv\")"
   ]
  },
  {
   "cell_type": "code",
   "execution_count": null,
   "metadata": {},
   "outputs": [],
   "source": []
  },
  {
   "cell_type": "code",
   "execution_count": null,
   "metadata": {},
   "outputs": [],
   "source": []
  },
  {
   "cell_type": "code",
   "execution_count": null,
   "metadata": {},
   "outputs": [],
   "source": [
    "# add PUMA to controls\n",
    "dfc = pd.read_csv(\"data/oak_control_totals_blkgrp.csv\")\n",
    "dfc['blkgrpid'] = dfc['STATEFP'] * 10000000000 + dfc['COUNTYFP'] * 10000000 + dfc['TRACTCE'] * 10 + dfc['BLKGRPCE']\n",
    "\n",
    "dfg = pd.read_csv(\"data/sem_geo_cross_walk.csv\")\n",
    "print(dfc.columns.values)\n",
    "print(dfg.columns.values) "
   ]
  },
  {
   "cell_type": "code",
   "execution_count": null,
   "metadata": {},
   "outputs": [],
   "source": [
    "dfc = pd.merge(dfc, dfg[['BLKGRPID', 'PUMA']], left_on='blkgrpid', right_on='BLKGRPID', how='left')"
   ]
  },
  {
   "cell_type": "code",
   "execution_count": null,
   "metadata": {},
   "outputs": [],
   "source": [
    "dfc.to_csv(\"data/oak_control_totals_blkgrp.csv\")"
   ]
  }
 ],
 "metadata": {
  "kernelspec": {
   "display_name": "Python 3",
   "language": "python",
   "name": "python3"
  },
  "language_info": {
   "codemirror_mode": {
    "name": "ipython",
    "version": 3
   },
   "file_extension": ".py",
   "mimetype": "text/x-python",
   "name": "python",
   "nbconvert_exporter": "python",
   "pygments_lexer": "ipython3",
   "version": "3.7.4"
  }
 },
 "nbformat": 4,
 "nbformat_minor": 2
}
