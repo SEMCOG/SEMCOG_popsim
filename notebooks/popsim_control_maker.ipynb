{
 "cells": [
  {
   "cell_type": "code",
   "execution_count": 1,
   "metadata": {},
   "outputs": [],
   "source": [
    "### generate control totals needed by populationsim(RSG)"
   ]
  },
  {
   "cell_type": "code",
   "execution_count": 2,
   "metadata": {},
   "outputs": [],
   "source": [
    "%load_ext autoreload\n",
    "%autoreload 2\n",
    "import os\n",
    "import pandas as pd\n",
    "import re\n",
    "from census import Census\n"
   ]
  },
  {
   "cell_type": "code",
   "execution_count": 3,
   "metadata": {},
   "outputs": [],
   "source": [
    "state, county = 'MI', 'Oakland County'\n",
    "\n",
    "c=Census(os.environ[\"CENSUS\"], year=2017)\n",
    "# c=Census('b01f26cd56a7f5457534e8436a1e63f4c7189b23', year=2017) # explicit\n",
    "geo_cross_csv = \"data/sem_geo_cross_walk.csv\"\n",
    "control_csv = \"preprocess/controls_pre.csv\"\n",
    "fips_url = \"https://www2.census.gov/geo/docs/reference/codes/files/national_county.txt\" \n"
   ]
  },
  {
   "cell_type": "code",
   "execution_count": 4,
   "metadata": {},
   "outputs": [],
   "source": [
    "def download_tract(fields, state_fips, county_fips, tract_fips = None):\n",
    "    \"\"\"download TRACT marginals by specified geo info. \n",
    "        must have fields, state and county fips \n",
    "    \"\"\"\n",
    "    if tract_fips == None:\n",
    "        tract_fips = '*'\n",
    "    return c.acs5.get(fields, \n",
    "                        geo={'for': 'tract:{}'.format(tract_fips), \n",
    "                            'in': 'state:{} county:{}'.format(state_fips, county_fips)})"
   ]
  },
  {
   "cell_type": "code",
   "execution_count": 5,
   "metadata": {},
   "outputs": [],
   "source": [
    "def download_blockgroup(fields, state_fips, county_fips, tract_fips = None, blockgroup_fips = None):\n",
    "    \"\"\"download block group marginals by specified geo info. \n",
    "        must have fields, state and county fips \n",
    "    \"\"\"\n",
    "    if tract_fips == None:\n",
    "        tract_fips, blockgroup_fips = '*', '*'\n",
    "    elif blockgroup_fips == None:\n",
    "        blockgroup_fips = '*'\n",
    "\n",
    "    return c.acs5.get(fields,\n",
    "                        geo={'for': 'block group:{}'.format(blockgroup_fips), \n",
    "                        'in': 'state:{} county:{} tract:{}'.format(state_fips, county_fips,tract_fips)})\n"
   ]
  },
  {
   "cell_type": "code",
   "execution_count": 6,
   "metadata": {},
   "outputs": [],
   "source": [
    "def get_marginals(dic_vars, state_fips = 26, county_fips = None):\n",
    "    \"\"\" download block group or tract marginal summaries from Census\n",
    "        dic_vars: dictionary with BLKGRP or TRACT as keys and variables as values\n",
    "    \"\"\"\n",
    "    geo_margs = {}\n",
    "    geos = ['state', 'county', 'tract', 'block group']\n",
    "    for k, v in dic_vars.items():\n",
    "        if k == 'BLKGRP':\n",
    "            download_geo = download_blockgroup\n",
    "            geoids = geos\n",
    "        elif k == 'TRACT':\n",
    "            download_geo = download_tract\n",
    "            geoids = geos[:3]\n",
    "        \n",
    "        dfms = []\n",
    "        for fields in v:\n",
    "            dfm = pd.DataFrame.from_dict(download_geo(fields, state_fips, county_fips))\n",
    "            dfm = dfm.set_index(geoids)\n",
    "            dfm = dfm.astype(float)\n",
    "            dfm.fillna(0, inplace =True)\n",
    "            dfms.append(dfm)\n",
    "        geo_margs[k] = pd.concat(dfms, axis=1) \n",
    " \n",
    "    return geo_margs          \n"
   ]
  },
  {
   "cell_type": "code",
   "execution_count": 7,
   "metadata": {},
   "outputs": [],
   "source": [
    "def makechunks(lst, csize):\n",
    "    ### split list into sized chunks, Census API default limit is 50 ###\n",
    "    for i in range(0, len(lst), csize):\n",
    "        yield lst[i:i + csize]\n",
    "        "
   ]
  },
  {
   "cell_type": "code",
   "execution_count": 8,
   "metadata": {},
   "outputs": [],
   "source": [
    "# list Census marginal variables from controls_pre table (same as \"controls\" table with additional \"acs_variables\" field )\n",
    "# \"acs_variables\" field contains evaluation expressions, including variables from Census API and operations\n",
    "dfc = pd.read_csv(control_csv)\n",
    "dic_vars = {}\n",
    "for geo, dfgeo in dfc.groupby('geography'):\n",
    "    vars= list(set(re.findall(r'B[0-9]{5}[A-Z]{0,1}_[0-9]{3}E', str(list(dfgeo.acs_variables)))))\n",
    "    dic_vars[geo] = list(makechunks(vars, 50))\n",
    "\n"
   ]
  },
  {
   "cell_type": "code",
   "execution_count": 9,
   "metadata": {},
   "outputs": [],
   "source": [
    "# look up state and county fips\n",
    "fips_table = pd.read_csv(fips_url, header=None, \n",
    "                                names=['state','state.fips', 'county.fips', 'county' ,'type'])\n",
    "geofips = fips_table.loc[(fips_table.state == state ) & (fips_table.county == county)]\n"
   ]
  },
  {
   "cell_type": "code",
   "execution_count": 10,
   "metadata": {},
   "outputs": [
    {
     "name": "stdout",
     "output_type": "stream",
     "text": "26 125\n"
    }
   ],
   "source": [
    "# download marginal variables by geo fips\n",
    "for ind, r in geofips.iterrows():\n",
    "    print(r['state.fips'], r['county.fips'])\n",
    "    final_marg = {}\n",
    "    for k in dic_vars.keys():\n",
    "        final_marg[k] = pd.DataFrame()\n",
    "    geo_margs = get_marginals(dic_vars, r['state.fips'], r['county.fips'])\n",
    "    for k, v in geo_margs.items():\n",
    "        final_marg[k] = pd.concat([final_marg[k], geo_margs[k]], axis=0)\n",
    "    \n",
    "    "
   ]
  },
  {
   "cell_type": "code",
   "execution_count": 11,
   "metadata": {},
   "outputs": [
    {
     "name": "stdout",
     "output_type": "stream",
     "text": "B01001_001E\n \"B25007_003E + B25007_013E\"\nB25007_004E + B25007_005E + B25007_014E + B25007_015E\nB25007_006E + B25007_007E + B25007_008E + B25007_016E + B25007_017E + B25007_018E \nB25007_009E + B25007_010E + B25007_011E + B25007_019E + B25007_020E + B25007_021E\nB25006_002E\nB25006_003E\nB25006_005E\nB25006_004E + B25006_006E + B25006_007E + B25006_008E\nB11005_001E - B25003I_001E\nB25003I_001E\nB11005_002E\nB11005_011E\n \"B19001_002E + B19001_003E + B19001_004E + B19001_005E + B19001_006E\"\n \"B19001_007E + B19001_008E + B19001_009E + B19001_010E + B19001_011E\"\nB19001_012E + B19001_013E\nB19001_014E + B19001_015E + B19001_016E + B19001_017E\nB25009_003E + B25009_011E\nB25009_004E + B25009_012E\nB25009_005E + B25009_013E\nB25009_006E + B25009_014E\nB25009_007E + B25009_015E\nB25009_008E + B25009_016E\nB25009_009E + B25009_017E\n(B01001_003E  + B01001_027E + B01001_004E + B01001_005E + B01001_006E + B01001_028E + B01001_029E + B01001_030E)* B11002_001E*1.0/B01001_001E\n \"(B01001_007E + B01001_008E + B01001_009E + B01001_010E + B01001_011E + B01001_012E + B01001_013E + B01001_014E + B01001_015E + B01001_035E + B01001_036E + B01001_037E + B01001_038E + B01001_039E + B01001_016E + B01001_017E + B01001_018E + B01001_019E + B01001_040E + B01001_041E + B01001_042E + B01001_043E + B01001_031E + B01001_032E + B01001_033E + B01001_034E)* B11002_001E*1.0/B01001_001E\"\n(B01001_020E + B01001_021E + B01001_022E + B01001_023E + B01001_024E + B01001_025E + B01001_044E + B01001_045E + B01001_046E + B01001_047E + B01001_048E + B01001_049E) * B11002_001E*1.0/B01001_001E\n(B02001_002E) * B11002_001E*1.0/B01001_001E\n(B02001_003E) * B11002_001E*1.0/B01001_001E\n(B02001_005E) * B11002_001E*1.0/B01001_001E\n(B02001_004E + B02001_006E + B02001_007E + B02001_008E) * B11002_001E*1.0/B01001_001E\n(B01001_002E) * B11002_001E*1.0/B01001_001E\n(B01001_026E) * B11002_001E*1.0/B01001_001E\nB08201_002E\nB08201_003E\nB08201_004E + B08201_005E + B08201_006E\nB08202_002E\nB08202_003E\nB08202_004E + B08202_005E\n"
    }
   ],
   "source": [
    "# compile Census marginals to popsim control variables\n",
    "for geo, dfg in dfc.groupby('geography'):\n",
    "    for ind, r in dfg.iterrows():\n",
    "        print(r['acs_variables'])\n",
    "        final_marg[geo][r['control_field']] = final_marg[geo].eval(r['acs_variables'].replace('\"', ''))\n",
    "    final_marg[geo] = final_marg[geo][list(dfg.control_field)]"
   ]
  },
  {
   "cell_type": "code",
   "execution_count": 12,
   "metadata": {},
   "outputs": [],
   "source": [
    "# add unique geoids and PUMA \n",
    "for geo, dfm in final_marg.items():\n",
    "\n",
    "    dfcross = pd.read_csv(geo_cross_csv, dtype = str)\n",
    "    if dfm.index.nlevels == 3:\n",
    "        dfm['TRACTID'] = ['{}{}{}'.format(l1.zfill(2),l2.zfill(3),l3.zfill(6)) for l1, l2, l3 in dfm.index]\n",
    "        dfm = pd.merge(dfm.reset_index(), dfcross[['TRACTID','PUMA']], on = 'TRACTID', how = 'left')\n",
    "\n",
    "    elif dfm.index.nlevels == 4:\n",
    "        dfm['BLKGRPID'] = ['{}{}{}{}'.format(l1.zfill(2),l2.zfill(3),l3.zfill(6), l4) for l1, l2, l3, l4 in dfm.index]\n",
    "        dfm = pd.merge(dfm.reset_index(), dfcross[['BLKGRPID','PUMA']], on = 'BLKGRPID', how = 'left') \n",
    "    \n",
    "    dfm.to_csv('{}_control_totals_{}.csv'.format(county[:3].lower(), geo.lower()))\n",
    "    "
   ]
  },
  {
   "cell_type": "code",
   "metadata": {},
   "outputs": [],
   "source": []
  }
 ],
 "metadata": {
  "file_extension": ".py",
  "kernelspec": {
   "display_name": "Python 3",
   "language": "python",
   "name": "python3"
  },
  "language_info": {
   "codemirror_mode": {
    "name": "ipython",
    "version": 3
   },
   "file_extension": ".py",
   "mimetype": "text/x-python",
   "name": "python",
   "nbconvert_exporter": "python",
   "pygments_lexer": "ipython3",
   "version": "3.7.4"
  },
  "mimetype": "text/x-python",
  "name": "python",
  "npconvert_exporter": "python",
  "pygments_lexer": "ipython3",
  "version": 3
 },
 "nbformat": 4,
 "nbformat_minor": 2
}