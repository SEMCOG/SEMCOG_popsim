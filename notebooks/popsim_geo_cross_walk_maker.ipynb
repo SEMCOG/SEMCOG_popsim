{
 "cells": [
  {
   "source": [
    "import pandas as pd"
   ],
   "cell_type": "code",
   "outputs": [],
   "metadata": {},
   "execution_count": 1
  },
  {
   "cell_type": "code",
   "execution_count": null,
   "metadata": {},
   "outputs": [],
   "source": [
    "#examine current cross_walk file\n",
    "#calm = pd.read_csv(\"data/geo_cross_walk.csv\")\n",
    "#calm.head(2)"
   ]
  },
  {
   "source": [
    "#read semcog block GIS file\n",
    "sem = pd.read_csv(\"data/semcog_block2010.txt\") \n",
    "sembg = sem.loc[sem.SUBTYPECD == 2][['GEOID10']]\n",
    "print(sembg.dtypes)\n",
    "sembg['GEOID10'].head(2)"
   ],
   "cell_type": "code",
   "outputs": [
    {
     "output_type": "stream",
     "name": "stdout",
     "text": "GEOID10    int64\ndtype: object\n"
    },
    {
     "output_type": "execute_result",
     "data": {
      "text/plain": "2086    261635647002\n2087    261635032001\nName: GEOID10, dtype: int64"
     },
     "metadata": {},
     "execution_count": 13
    }
   ],
   "metadata": {},
   "execution_count": 13
  },
  {
   "source": [
    "sembg['BLKGRPID'] = sembg['GEOID10'].apply(int) #numeric full BG id\n",
    "sembg['TRACTID'] = sembg['GEOID10'].apply(str).str[:11].apply(int) #numeric full tract id\n",
    "sembg['TRACT'] = sembg['GEOID10'].apply(str).str[5:11].apply(int)\n",
    "sembg['BLKGRP'] = sembg['GEOID10'].apply(str).str[11].apply(int)\n"
   ],
   "cell_type": "code",
   "outputs": [],
   "metadata": {},
   "execution_count": 14
  },
  {
   "source": [
    "# read 2010 tract to puma file from Census\n",
    "tract_puma = pd.read_csv(\"data/2010_Census_Tract_to_2010_PUMA.txt\")\n",
    "tract_puma = tract_puma.loc[tract_puma.STATEFP == 26]\n",
    "tract_puma['TRACTID'] = tract_puma['STATEFP'] * 1000000000 + tract_puma['COUNTYFP'] * 1000000 + tract_puma['TRACTCE']\n",
    "tract_puma.head(2)"
   ],
   "cell_type": "code",
   "outputs": [
    {
     "output_type": "execute_result",
     "data": {
      "text/plain": "       STATEFP  COUNTYFP  TRACTCE  PUMA5CE      TRACTID\n32693       26         1      100      300  26001000100\n32694       26         1   970100      300  26001970100",
      "text/html": "<div>\n<style scoped>\n    .dataframe tbody tr th:only-of-type {\n        vertical-align: middle;\n    }\n\n    .dataframe tbody tr th {\n        vertical-align: top;\n    }\n\n    .dataframe thead th {\n        text-align: right;\n    }\n</style>\n<table border=\"1\" class=\"dataframe\">\n  <thead>\n    <tr style=\"text-align: right;\">\n      <th></th>\n      <th>STATEFP</th>\n      <th>COUNTYFP</th>\n      <th>TRACTCE</th>\n      <th>PUMA5CE</th>\n      <th>TRACTID</th>\n    </tr>\n  </thead>\n  <tbody>\n    <tr>\n      <td>32693</td>\n      <td>26</td>\n      <td>1</td>\n      <td>100</td>\n      <td>300</td>\n      <td>26001000100</td>\n    </tr>\n    <tr>\n      <td>32694</td>\n      <td>26</td>\n      <td>1</td>\n      <td>970100</td>\n      <td>300</td>\n      <td>26001970100</td>\n    </tr>\n  </tbody>\n</table>\n</div>"
     },
     "metadata": {},
     "execution_count": 15
    }
   ],
   "metadata": {},
   "execution_count": 15
  },
  {
   "source": [
    "tract_puma.loc[tract_puma.duplicated(subset=['TRACTID'])] #verify if tract id are unique\n",
    "#semblk.loc[semblk.duplicated(subset=['TRACTID'])]"
   ],
   "cell_type": "code",
   "outputs": [
    {
     "output_type": "execute_result",
     "data": {
      "text/plain": "Empty DataFrame\nColumns: [STATEFP, COUNTYFP, TRACTCE, PUMA5CE, TRACTID]\nIndex: []",
      "text/html": "<div>\n<style scoped>\n    .dataframe tbody tr th:only-of-type {\n        vertical-align: middle;\n    }\n\n    .dataframe tbody tr th {\n        vertical-align: top;\n    }\n\n    .dataframe thead th {\n        text-align: right;\n    }\n</style>\n<table border=\"1\" class=\"dataframe\">\n  <thead>\n    <tr style=\"text-align: right;\">\n      <th></th>\n      <th>STATEFP</th>\n      <th>COUNTYFP</th>\n      <th>TRACTCE</th>\n      <th>PUMA5CE</th>\n      <th>TRACTID</th>\n    </tr>\n  </thead>\n  <tbody>\n  </tbody>\n</table>\n</div>"
     },
     "metadata": {},
     "execution_count": 16
    }
   ],
   "metadata": {},
   "execution_count": 16
  },
  {
   "source": [
    "# merge block group file with puma file\n",
    "semblkgrp = pd.merge(sembg, tract_puma, left_on = 'TRACTID', right_on = 'TRACTID', how = 'left')\n",
    ""
   ],
   "cell_type": "code",
   "outputs": [],
   "metadata": {},
   "execution_count": 17
  },
  {
   "source": [
    "semblkgrp.dtypes"
   ],
   "cell_type": "code",
   "outputs": [
    {
     "output_type": "execute_result",
     "data": {
      "text/plain": "GEOID10     int64\nBLKGRPID    int64\nTRACTID     int64\nTRACT       int64\nBLKGRP      int64\nSTATEFP     int64\nCOUNTYFP    int64\nTRACTCE     int64\nPUMA5CE     int64\ndtype: object"
     },
     "metadata": {},
     "execution_count": 18
    }
   ],
   "metadata": {},
   "execution_count": 18
  },
  {
   "source": [
    "semblkgrp.head()"
   ],
   "cell_type": "code",
   "outputs": [
    {
     "output_type": "execute_result",
     "data": {
      "text/plain": "        GEOID10      BLKGRPID      TRACTID   TRACT  BLKGRP  STATEFP  COUNTYFP  \\\n0  261635647002  261635647002  26163564700  564700       2       26       163   \n1  261635032001  261635032001  26163503200  503200       1       26       163   \n2  261635020002  261635020002  26163502000  502000       2       26       163   \n3  261635807001  261635807001  26163580700  580700       1       26       163   \n4  261635342003  261635342003  26163534200  534200       3       26       163   \n\n   TRACTCE  PUMA  REGION  \n0   564700  3201       4  \n1   503200  3210       4  \n2   502000  3211       4  \n3   580700  3207       4  \n4   534200  3208       4  ",
      "text/html": "<div>\n<style scoped>\n    .dataframe tbody tr th:only-of-type {\n        vertical-align: middle;\n    }\n\n    .dataframe tbody tr th {\n        vertical-align: top;\n    }\n\n    .dataframe thead th {\n        text-align: right;\n    }\n</style>\n<table border=\"1\" class=\"dataframe\">\n  <thead>\n    <tr style=\"text-align: right;\">\n      <th></th>\n      <th>GEOID10</th>\n      <th>BLKGRPID</th>\n      <th>TRACTID</th>\n      <th>TRACT</th>\n      <th>BLKGRP</th>\n      <th>STATEFP</th>\n      <th>COUNTYFP</th>\n      <th>TRACTCE</th>\n      <th>PUMA</th>\n      <th>REGION</th>\n    </tr>\n  </thead>\n  <tbody>\n    <tr>\n      <td>0</td>\n      <td>261635647002</td>\n      <td>261635647002</td>\n      <td>26163564700</td>\n      <td>564700</td>\n      <td>2</td>\n      <td>26</td>\n      <td>163</td>\n      <td>564700</td>\n      <td>3201</td>\n      <td>4</td>\n    </tr>\n    <tr>\n      <td>1</td>\n      <td>261635032001</td>\n      <td>261635032001</td>\n      <td>26163503200</td>\n      <td>503200</td>\n      <td>1</td>\n      <td>26</td>\n      <td>163</td>\n      <td>503200</td>\n      <td>3210</td>\n      <td>4</td>\n    </tr>\n    <tr>\n      <td>2</td>\n      <td>261635020002</td>\n      <td>261635020002</td>\n      <td>26163502000</td>\n      <td>502000</td>\n      <td>2</td>\n      <td>26</td>\n      <td>163</td>\n      <td>502000</td>\n      <td>3211</td>\n      <td>4</td>\n    </tr>\n    <tr>\n      <td>3</td>\n      <td>261635807001</td>\n      <td>261635807001</td>\n      <td>26163580700</td>\n      <td>580700</td>\n      <td>1</td>\n      <td>26</td>\n      <td>163</td>\n      <td>580700</td>\n      <td>3207</td>\n      <td>4</td>\n    </tr>\n    <tr>\n      <td>4</td>\n      <td>261635342003</td>\n      <td>261635342003</td>\n      <td>26163534200</td>\n      <td>534200</td>\n      <td>3</td>\n      <td>26</td>\n      <td>163</td>\n      <td>534200</td>\n      <td>3208</td>\n      <td>4</td>\n    </tr>\n  </tbody>\n</table>\n</div>"
     },
     "metadata": {},
     "execution_count": 20
    }
   ],
   "metadata": {},
   "execution_count": 20
  },
  {
   "source": [
    "semblkgrp['REGION'] = 4\n",
    "semblkgrp.rename(columns = {'PUMA5CE': 'PUMA'}, inplace = True)"
   ],
   "cell_type": "code",
   "outputs": [],
   "metadata": {},
   "execution_count": 19
  },
  {
   "source": [
    "#semblkgrp.to_csv(\"data/sem_geo_cross_walk.csv\")"
   ],
   "cell_type": "code",
   "outputs": [],
   "metadata": {},
   "execution_count": 23
  },
  {
   "source": [
    "oakblkgrp = semblkgrp.loc[semblkgrp.COUNTYFP == 125 ]\n",
    "oakblkgrp.to_csv(\"data/oak_geo_cross_walk.csv\")"
   ],
   "cell_type": "code",
   "outputs": [],
   "metadata": {},
   "execution_count": 24
  }
 ],
 "metadata": {
  "kernelspec": {
   "display_name": "Python 3",
   "language": "python",
   "name": "python3"
  },
  "language_info": {
   "codemirror_mode": {
    "name": "ipython",
    "version": 3
   },
   "file_extension": ".py",
   "mimetype": "text/x-python",
   "name": "python",
   "nbconvert_exporter": "python",
   "pygments_lexer": "ipython3",
   "version": "3.7.4"
  }
 },
 "nbformat": 4,
 "nbformat_minor": 2
}